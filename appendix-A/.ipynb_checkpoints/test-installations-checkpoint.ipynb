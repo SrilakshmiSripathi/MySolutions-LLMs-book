{
 "cells": [
  {
   "cell_type": "code",
   "execution_count": 1,
   "id": "b8de50cf-d43e-46d0-9cf1-d30d08109d08",
   "metadata": {},
   "outputs": [
    {
     "data": {
      "text/plain": [
       "'2.5.1'"
      ]
     },
     "execution_count": 1,
     "metadata": {},
     "output_type": "execute_result"
    }
   ],
   "source": [
    "import torch\n",
    "torch.__version__"
   ]
  },
  {
   "cell_type": "markdown",
   "id": "c575cc8f-f85e-4f70-a371-4298f65d2a89",
   "metadata": {},
   "source": [
    "Working on Mac, to test GPU run below"
   ]
  },
  {
   "cell_type": "code",
   "execution_count": 3,
   "id": "6b4e869c-d575-410c-92ef-656e52ab3698",
   "metadata": {},
   "outputs": [
    {
     "name": "stdout",
     "output_type": "stream",
     "text": [
      "True\n"
     ]
    }
   ],
   "source": [
    "print(torch.backends.mps.is_available())"
   ]
  },
  {
   "cell_type": "markdown",
   "id": "6fd4d467-c9a9-4594-ae70-ab24f86272e0",
   "metadata": {},
   "source": [
    "Pytorch tensor datatypes and operations"
   ]
  },
  {
   "cell_type": "code",
   "execution_count": 35,
   "id": "fd6c4727-a194-4afd-9e1a-5f89f43011fb",
   "metadata": {},
   "outputs": [
    {
     "name": "stdout",
     "output_type": "stream",
     "text": [
      "tensor data type:  torch.int64\n",
      "tensor shape:  torch.Size([3])\n",
      "tensor type change from int64 to float32:  tensor([[1., 2.],\n",
      "        [3., 4.]])\n",
      "tensor viewing:  tensor([[1, 2, 3],\n",
      "        [4, 5, 6]])\n",
      "tensor reshaping:  tensor([[1, 2],\n",
      "        [3, 4],\n",
      "        [5, 6]])\n",
      "tensor reshaped:  tensor([[1, 2],\n",
      "        [3, 4],\n",
      "        [5, 6]])\n",
      "tensor transpose matrix(same as reshape):  tensor([[1, 4],\n",
      "        [2, 5],\n",
      "        [3, 6]])\n",
      "tensor([[[1, 3],\n",
      "         [2, 4]],\n",
      "\n",
      "        [[5, 7],\n",
      "         [6, 8]]])\n",
      "matrix multiplication tensor([[14, 32],\n",
      "        [32, 77]])\n",
      "multiplication can be done also using:  tensor([[14, 32],\n",
      "        [32, 77]])\n"
     ]
    }
   ],
   "source": [
    "tensor0d = torch.tensor(1)\n",
    "tensor1d = torch.tensor([1,2,3])\n",
    "tensor2d = torch.tensor([[1,2],\n",
    "                         [3,4]])\n",
    "tensor3d = torch.tensor([\n",
    "    [[1,2],\n",
    "     [3,4]],\n",
    "    [[5,6],\n",
    "     [7,8]]])\n",
    "tensor2by3 = torch.tensor([[1,2,3],\n",
    "                           [4,5,6]])\n",
    "\n",
    "print(\"tensor data type: \", tensor0d.dtype)\n",
    "print(\"tensor shape: \",tensor1d.shape)\n",
    "print(\"tensor type change from int64 to float32: \",tensor2d.to(torch.float32))\n",
    "print(\"tensor viewing: \",tensor2by3.view(2,3))\n",
    "print(\"tensor reshaping: \",tensor2by3.reshape(3,2))\n",
    "print(\"tensor reshaped: \",tensor2by3.view(3,2))\n",
    "print(\"tensor transpose matrix(same as reshape): \",tensor2by3.T)\n",
    "print(tensor3d.mT)\n",
    "print(\"matrix multiplication\", tensor2by3.matmul(tensor2by3.T))\n",
    "print(\"multiplication can be done also using: \", tensor2by3 @ tensor2by3.T)"
   ]
  },
  {
   "cell_type": "code",
   "execution_count": 37,
   "id": "e051f045-72f9-4cc1-b654-ff2fe9f32ca9",
   "metadata": {},
   "outputs": [
    {
     "name": "stdout",
     "output_type": "stream",
     "text": [
      "(tensor([-0.0898]),)\n",
      "(tensor([-0.0817]),)\n"
     ]
    }
   ],
   "source": [
    "import torch.nn.functional as F\n",
    "from torch.autograd import grad\n",
    "\n",
    "y = torch.tensor([1.0])\n",
    "x1 = torch.tensor([1.1])\n",
    "w1 = torch.tensor([2.2], requires_grad=True)\n",
    "b = torch.tensor([0.0], requires_grad=True)\n",
    "z = x1 * w1 + b\n",
    "a = torch.sigmoid(z)\n",
    "loss = F.binary_cross_entropy(a, y)\n",
    "grad_L_w1 = grad(loss, w1, retain_graph=True)\n",
    "grad_L_b = grad(loss, b, retain_graph=True)\n",
    "\n",
    "print(grad_L_w1)\n",
    "print(grad_L_b)"
   ]
  },
  {
   "cell_type": "code",
   "execution_count": null,
   "id": "adeed114-bf94-46f5-a45d-ded3dd997f1f",
   "metadata": {},
   "outputs": [],
   "source": []
  }
 ],
 "metadata": {
  "kernelspec": {
   "display_name": "Python 3 (ipykernel)",
   "language": "python",
   "name": "python3"
  },
  "language_info": {
   "codemirror_mode": {
    "name": "ipython",
    "version": 3
   },
   "file_extension": ".py",
   "mimetype": "text/x-python",
   "name": "python",
   "nbconvert_exporter": "python",
   "pygments_lexer": "ipython3",
   "version": "3.12.4"
  }
 },
 "nbformat": 4,
 "nbformat_minor": 5
}
